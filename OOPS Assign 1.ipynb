{
 "cells": [
  {
   "cell_type": "markdown",
   "id": "4a61f556-ef7d-4750-9e75-93f03cc21945",
   "metadata": {},
   "source": [
    "1) \n",
    "</br>\n",
    "In object-oriented programming (OOP), a class is a blueprint for creating objects, while an object is an instance of a class.\n",
    "</br>\n",
    "Class:\n",
    "</br>\n",
    "A class is a template or blueprint that defines the attributes (properties) and behaviors (methods) that objects of that class will have.\n",
    "It serves as a blueprint for creating multiple objects with similar characteristics and functionalities.\n",
    "Classes encapsulate data and behavior together, providing a way to organize and structure code in a modular and reusable manner.\n",
    "Classes can inherit attributes and behaviors from other classes through inheritance, facilitating code reuse and promoting a hierarchical structure.\n",
    "</br>\n",
    "Object:\n",
    "</br>\n",
    "An object is a concrete instance of a class, created based on the blueprint provided by the class.\n",
    "Each object has its own unique state (attribute values) and behavior (methods), determined by the class it belongs to.\n",
    "Objects represent real-world entities or concepts and interact with each other by sending messages and invoking methods."
   ]
  },
  {
   "cell_type": "code",
   "execution_count": 1,
   "id": "3158446d-a129-4ddb-862d-c4236cb5c791",
   "metadata": {},
   "outputs": [
    {
     "name": "stdout",
     "output_type": "stream",
     "text": [
      "Car 1: Toyota Camry (2020)\n",
      "Car 2: Honda Accord (2019)\n",
      "Car 1 Speed: 20\n",
      "Car 2 Speed: -10\n"
     ]
    }
   ],
   "source": [
    "class Car:\n",
    "    def __init__(self, make, model, year):\n",
    "        self.make = make\n",
    "        self.model = model\n",
    "        self.year = year\n",
    "        self.speed = 0  # Initial speed\n",
    "    \n",
    "    def accelerate(self, increment):\n",
    "        self.speed += increment\n",
    "    \n",
    "    def brake(self, decrement):\n",
    "        self.speed -= decrement\n",
    "\n",
    "# Creating objects (instances) of the Car class\n",
    "car1 = Car(\"Toyota\", \"Camry\", 2020)\n",
    "car2 = Car(\"Honda\", \"Accord\", 2019)\n",
    "\n",
    "# Accessing attributes and invoking methods of car objects\n",
    "print(f\"Car 1: {car1.make} {car1.model} ({car1.year})\")\n",
    "print(f\"Car 2: {car2.make} {car2.model} ({car2.year})\")\n",
    "\n",
    "# Accelerate car1 by 20 units\n",
    "car1.accelerate(20)\n",
    "\n",
    "# Brake car2 by 10 units\n",
    "car2.brake(10)\n",
    "\n",
    "# Print current speed of car1 and car2\n",
    "print(f\"Car 1 Speed: {car1.speed}\")\n",
    "print(f\"Car 2 Speed: {car2.speed}\")"
   ]
  },
  {
   "cell_type": "code",
   "execution_count": null,
   "id": "b3694214-5212-476f-b0e6-217626e4adf4",
   "metadata": {},
   "outputs": [],
   "source": []
  },
  {
   "cell_type": "markdown",
   "id": "5d264e26-2364-4ee7-a833-1d22accf4871",
   "metadata": {},
   "source": [
    "2) \n",
    "</br>\n",
    "The four pillars of object-oriented programming (OOP) are:\n",
    "</br>\n",
    "Encapsulation:\n",
    "</br>\n",
    "Encapsulation refers to the bundling of data (attributes) and methods (behaviors) that operate on that data into a single unit called a class.\n",
    "It hides the internal state of objects from the outside world and restricts direct access to data, allowing access only through well-defined interfaces (methods).\n",
    "Encapsulation helps achieve data abstraction, modularity, and information hiding, enhancing the security and maintainability of code.\n",
    "</br>\n",
    "Inheritance:\n",
    "</br>\n",
    "Inheritance is the mechanism by which a class (subclass or derived class) inherits properties and behaviors from another class (superclass or base class).\n",
    "It allows the creation of a hierarchy of classes, where subclasses can reuse and extend the attributes and methods of their superclass.\n",
    "Inheritance promotes code reuse, modularity, and the organization of classes into logical hierarchies, facilitating the implementation of the \"is-a\" relationship.\n",
    "</br>\n",
    "Polymorphism:\n",
    "</br>\n",
    "Polymorphism refers to the ability of objects to take on multiple forms or behaviors based on the context in which they are used.\n",
    "It allows objects of different classes to be treated as objects of a common superclass, enabling generic programming and method overriding.\n",
    "Polymorphism is achieved through method overloading (compile-time polymorphism) and method overriding (run-time polymorphism), allowing flexibility and extensibility in code design.\n",
    "</br>\n",
    "Abstraction:\n",
    "</br>\n",
    "Abstraction is the process of simplifying complex systems by modeling the relevant aspects and ignoring unnecessary details.\n",
    "It allows the creation of abstract data types (classes) that define a blueprint for objects without specifying the implementation details.\n",
    "Abstraction provides a clear separation between the interface (what an object does) and the implementation (how it does it), promoting code reuse, modularity, and flexibility."
   ]
  },
  {
   "cell_type": "code",
   "execution_count": null,
   "id": "01d4e2f2-95cd-4037-9d34-697c11e9d00d",
   "metadata": {},
   "outputs": [],
   "source": []
  },
  {
   "cell_type": "markdown",
   "id": "680db4bd-45de-4eaf-8f9a-9d709f445b3b",
   "metadata": {},
   "source": [
    "3) \n",
    "</br>\n",
    "The __init__() function in Python is a special method (also known as a constructor) that is automatically called when a new instance of a class is created. It is used to initialize the attributes (properties) of the newly created object.\n",
    "</br>\n",
    "Purpose of the __init__() function:\n",
    "</br>\n",
    "Initialization:\n",
    "</br>\n",
    "The primary purpose of the __init__() function is to initialize the state of newly created objects by assigning initial values to their attributes.\n",
    "It allows you to set up the initial state of the object with specific attribute values that are provided as arguments during object creation.\n",
    "</br>\n",
    "Attribute Assignment:\n",
    "</br>\n",
    "Inside the __init__() function, you can assign values to the object's attributes using the self keyword, which refers to the current instance of the class.\n",
    "This enables you to define the initial state of the object and ensure that it starts with the desired attribute values."
   ]
  },
  {
   "cell_type": "code",
   "execution_count": 2,
   "id": "aaf8e629-3e48-4f19-9733-6890fa0a31a8",
   "metadata": {},
   "outputs": [
    {
     "name": "stdout",
     "output_type": "stream",
     "text": [
      "Name: Alice, Age: 30, Gender: Female\n",
      "Name: Bob, Age: 25, Gender: Male\n"
     ]
    }
   ],
   "source": [
    "class Person:\n",
    "    def __init__(self, name, age, gender):\n",
    "        self.name = name\n",
    "        self.age = age\n",
    "        self.gender = gender\n",
    "    \n",
    "    def display_info(self):\n",
    "        print(f\"Name: {self.name}, Age: {self.age}, Gender: {self.gender}\")\n",
    "\n",
    "# Creating instances of the Person class\n",
    "person1 = Person(\"Alice\", 30, \"Female\")\n",
    "person2 = Person(\"Bob\", 25, \"Male\")\n",
    "\n",
    "# Displaying information about the persons\n",
    "person1.display_info()\n",
    "person2.display_info()"
   ]
  },
  {
   "cell_type": "code",
   "execution_count": null,
   "id": "470760f5-da7f-4ff1-b4cf-7564f8db47c9",
   "metadata": {},
   "outputs": [],
   "source": []
  },
  {
   "cell_type": "markdown",
   "id": "ef440416-6b65-4c49-9509-51c3788b0465",
   "metadata": {},
   "source": [
    "4) \n",
    "</br>\n",
    "n object-oriented programming (OOP), the self keyword is used to represent the current instance of a class. It is a reference to the object itself, allowing you to access and modify attributes and invoke methods within the class.\n",
    "</br>\n",
    "Purpose of self in OOP:\n",
    "</br>\n",
    "Accessing Attributes and Methods:\n",
    "</br>\n",
    "Inside class methods, self is used to access instance variables (attributes) and instance methods.\n",
    "It allows you to refer to the specific instance of the class on which the method is called, ensuring that attributes and methods belong to the correct object.\n",
    "</br>\n",
    "Attribute Assignment:\n",
    "</br>\n",
    "When defining the __init__() method or other instance methods, self is used to assign values to object attributes.\n",
    "It helps differentiate between local variables (temporary variables within a method) and instance variables (attributes of the object).\n",
    "</br>\n",
    "Method Invocation:\n",
    "</br>\n",
    "When invoking methods on an object, self is implicitly passed as the first argument to the method.</br>\n",
    "It allows methods to operate on the attributes of the object to which they belong, ensuring that the correct instance is acted upon."
   ]
  },
  {
   "cell_type": "code",
   "execution_count": null,
   "id": "7d357d97-67e7-46f9-bb30-2d78bc07d3d1",
   "metadata": {},
   "outputs": [],
   "source": []
  },
  {
   "cell_type": "markdown",
   "id": "bc04cd1c-1cba-47b9-b3e1-703909381b0f",
   "metadata": {},
   "source": [
    "5) \n",
    "</br>\n",
    "Inheritance is a fundamental concept in object-oriented programming (OOP) that allows a new class (subclass or derived class) to inherit properties and behaviors from an existing class (superclass or base class). This enables code reuse and promotes a hierarchical organization of classes based on relationships such as \"is-a\" or \"has-a\".\n",
    "</br>\n",
    "There are different types of inheritance in Python:\n",
    "</br>\n",
    "Single Inheritance:</br>\n",
    "In single inheritance, a subclass inherits from only one superclass.</br>\n",
    "Example:"
   ]
  },
  {
   "cell_type": "code",
   "execution_count": 3,
   "id": "33f502d0-16dc-417c-ba90-7c2261541662",
   "metadata": {},
   "outputs": [
    {
     "name": "stdout",
     "output_type": "stream",
     "text": [
      "Dog barks\n",
      "Animal speaks\n"
     ]
    }
   ],
   "source": [
    "class Animal:\n",
    "    def speak(self):\n",
    "        print(\"Animal speaks\")\n",
    "\n",
    "class Dog(Animal):\n",
    "    def bark(self):\n",
    "        print(\"Dog barks\")\n",
    "\n",
    "# Creating an instance of the Dog class\n",
    "dog = Dog()\n",
    "dog.bark()    # Output: Dog barks\n",
    "dog.speak()   # Output: Animal speaks"
   ]
  },
  {
   "cell_type": "markdown",
   "id": "058e4605-40ca-4abe-90b8-c99cdf4616f1",
   "metadata": {},
   "source": [
    "Multiple Inheritance:</br>\n",
    "In multiple inheritance, a subclass inherits from multiple superclasses.</br>\n",
    "Example:"
   ]
  },
  {
   "cell_type": "code",
   "execution_count": 4,
   "id": "5b2d278c-2abf-41c8-8452-a872c3be88b7",
   "metadata": {},
   "outputs": [
    {
     "name": "stdout",
     "output_type": "stream",
     "text": [
      "Parrot sings\n",
      "Animal speaks\n",
      "Bird flies\n"
     ]
    }
   ],
   "source": [
    "class Animal:\n",
    "    def speak(self):\n",
    "        print(\"Animal speaks\")\n",
    "\n",
    "class Bird:\n",
    "    def fly(self):\n",
    "        print(\"Bird flies\")\n",
    "\n",
    "class Parrot(Animal, Bird):\n",
    "    def sing(self):\n",
    "        print(\"Parrot sings\")\n",
    "\n",
    "# Creating an instance of the Parrot class\n",
    "parrot = Parrot()\n",
    "parrot.sing()    # Output: Parrot sings\n",
    "parrot.speak()   # Output: Animal speaks\n",
    "parrot.fly()     # Output: Bird flies"
   ]
  },
  {
   "cell_type": "markdown",
   "id": "1269ac59-ccbf-4509-8360-dbadad73c68c",
   "metadata": {},
   "source": [
    "Multilevel Inheritance:</br>\n",
    "In multilevel inheritance, a subclass inherits from another subclass, creating a hierarchical chain of classes.</br>\n",
    "Example:"
   ]
  },
  {
   "cell_type": "code",
   "execution_count": 5,
   "id": "64e0e57e-153e-4842-991f-154dec4cd74b",
   "metadata": {},
   "outputs": [
    {
     "name": "stdout",
     "output_type": "stream",
     "text": [
      "Labrador fetches\n",
      "Dog barks\n",
      "Animal speaks\n"
     ]
    }
   ],
   "source": [
    "class Animal:\n",
    "    def speak(self):\n",
    "        print(\"Animal speaks\")\n",
    "\n",
    "class Dog(Animal):\n",
    "    def bark(self):\n",
    "        print(\"Dog barks\")\n",
    "\n",
    "class Labrador(Dog):\n",
    "    def fetch(self):\n",
    "        print(\"Labrador fetches\")\n",
    "\n",
    "# Creating an instance of the Labrador class\n",
    "labrador = Labrador()\n",
    "labrador.fetch()    # Output: Labrador fetches\n",
    "labrador.bark()     # Output: Dog barks\n",
    "labrador.speak()    # Output: Animal speaks"
   ]
  },
  {
   "cell_type": "markdown",
   "id": "313e49a6-0684-4687-bf47-05d559f3841c",
   "metadata": {},
   "source": [
    "Hierarchical Inheritance:</br>\n",
    "In hierarchical inheritance, multiple subclasses inherit from the same superclass.</br>\n",
    "Example:"
   ]
  },
  {
   "cell_type": "code",
   "execution_count": 6,
   "id": "69363573-911d-4dea-b5fe-4e00a5cb1634",
   "metadata": {},
   "outputs": [
    {
     "name": "stdout",
     "output_type": "stream",
     "text": [
      "Dog barks\n",
      "Animal speaks\n",
      "Cat meows\n",
      "Animal speaks\n"
     ]
    }
   ],
   "source": [
    "class Animal:\n",
    "    def speak(self):\n",
    "        print(\"Animal speaks\")\n",
    "\n",
    "class Dog(Animal):\n",
    "    def bark(self):\n",
    "        print(\"Dog barks\")\n",
    "\n",
    "class Cat(Animal):\n",
    "    def meow(self):\n",
    "        print(\"Cat meows\")\n",
    "\n",
    "# Creating an instance of the Dog and Cat class\n",
    "dog = Dog()\n",
    "dog.bark()    # Output: Dog barks\n",
    "dog.speak()   # Output: Animal speaks\n",
    "\n",
    "cat = Cat()\n",
    "cat.meow()    # Output: Cat meows\n",
    "cat.speak()   # Output: Animal speaks"
   ]
  }
 ],
 "metadata": {
  "kernelspec": {
   "display_name": "Python 3 (ipykernel)",
   "language": "python",
   "name": "python3"
  },
  "language_info": {
   "codemirror_mode": {
    "name": "ipython",
    "version": 3
   },
   "file_extension": ".py",
   "mimetype": "text/x-python",
   "name": "python",
   "nbconvert_exporter": "python",
   "pygments_lexer": "ipython3",
   "version": "3.10.8"
  }
 },
 "nbformat": 4,
 "nbformat_minor": 5
}
